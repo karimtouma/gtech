{
 "cells": [
  {
   "cell_type": "markdown",
   "id": "0bf082ba",
   "metadata": {},
   "source": [
    "## Week 2 Homework\n",
    "\n",
    "Karim Touma \\\n",
    "**karto@gatech.edu**.\n",
    "\n"
   ]
  },
  {
   "cell_type": "markdown",
   "id": "15f89062",
   "metadata": {},
   "source": [
    "**Question 3.1** \n",
    "\n",
    "Using the same data set (credit_card_data.txt or credit_card_data-headers.txt) as in Question 2.2, use the ksvm or kknn function to find a good classifier:\n",
    "\n",
    "- (a)\tusing cross-validation (do this for the k-nearest-neighbors model; SVM is optional); and\n",
    "- (b)\tsplitting the data into training, validation, and test data sets (pick either KNN or SVM; the other is optional).\n"
   ]
  },
  {
   "cell_type": "code",
   "execution_count": 1,
   "id": "97d21e5a",
   "metadata": {},
   "outputs": [],
   "source": [
    "# reading dataset\n",
    "# documentation: http://www.sthda.com/english/wiki/reading-data-from-txt-csv-files-r-base-functions\n",
    "relative_path <- \"./data 3.1/credit_card_data-headers.txt\"\n",
    "dataset <- read.csv(relative_path, header = TRUE, sep = \"\\t\", dec = \".\")"
   ]
  },
  {
   "cell_type": "code",
   "execution_count": 2,
   "id": "0b377d4c",
   "metadata": {},
   "outputs": [
    {
     "data": {
      "text/html": [
       "<table>\n",
       "<thead><tr><th scope=col>A1</th><th scope=col>A2</th><th scope=col>A3</th><th scope=col>A8</th><th scope=col>A9</th><th scope=col>A10</th><th scope=col>A11</th><th scope=col>A12</th><th scope=col>A14</th><th scope=col>A15</th><th scope=col>R1</th></tr></thead>\n",
       "<tbody>\n",
       "\t<tr><td>1    </td><td>30.83</td><td>0.000</td><td>1.25 </td><td>1    </td><td>0    </td><td>1    </td><td>1    </td><td>202  </td><td>  0  </td><td>1    </td></tr>\n",
       "\t<tr><td>0    </td><td>58.67</td><td>4.460</td><td>3.04 </td><td>1    </td><td>0    </td><td>6    </td><td>1    </td><td> 43  </td><td>560  </td><td>1    </td></tr>\n",
       "\t<tr><td>0    </td><td>24.50</td><td>0.500</td><td>1.50 </td><td>1    </td><td>1    </td><td>0    </td><td>1    </td><td>280  </td><td>824  </td><td>1    </td></tr>\n",
       "\t<tr><td>1    </td><td>27.83</td><td>1.540</td><td>3.75 </td><td>1    </td><td>0    </td><td>5    </td><td>0    </td><td>100  </td><td>  3  </td><td>1    </td></tr>\n",
       "\t<tr><td>1    </td><td>20.17</td><td>5.625</td><td>1.71 </td><td>1    </td><td>1    </td><td>0    </td><td>1    </td><td>120  </td><td>  0  </td><td>1    </td></tr>\n",
       "\t<tr><td>1    </td><td>32.08</td><td>4.000</td><td>2.50 </td><td>1    </td><td>1    </td><td>0    </td><td>0    </td><td>360  </td><td>  0  </td><td>1    </td></tr>\n",
       "</tbody>\n",
       "</table>\n"
      ],
      "text/latex": [
       "\\begin{tabular}{r|lllllllllll}\n",
       " A1 & A2 & A3 & A8 & A9 & A10 & A11 & A12 & A14 & A15 & R1\\\\\n",
       "\\hline\n",
       "\t 1     & 30.83 & 0.000 & 1.25  & 1     & 0     & 1     & 1     & 202   &   0   & 1    \\\\\n",
       "\t 0     & 58.67 & 4.460 & 3.04  & 1     & 0     & 6     & 1     &  43   & 560   & 1    \\\\\n",
       "\t 0     & 24.50 & 0.500 & 1.50  & 1     & 1     & 0     & 1     & 280   & 824   & 1    \\\\\n",
       "\t 1     & 27.83 & 1.540 & 3.75  & 1     & 0     & 5     & 0     & 100   &   3   & 1    \\\\\n",
       "\t 1     & 20.17 & 5.625 & 1.71  & 1     & 1     & 0     & 1     & 120   &   0   & 1    \\\\\n",
       "\t 1     & 32.08 & 4.000 & 2.50  & 1     & 1     & 0     & 0     & 360   &   0   & 1    \\\\\n",
       "\\end{tabular}\n"
      ],
      "text/markdown": [
       "\n",
       "| A1 | A2 | A3 | A8 | A9 | A10 | A11 | A12 | A14 | A15 | R1 |\n",
       "|---|---|---|---|---|---|---|---|---|---|---|\n",
       "| 1     | 30.83 | 0.000 | 1.25  | 1     | 0     | 1     | 1     | 202   |   0   | 1     |\n",
       "| 0     | 58.67 | 4.460 | 3.04  | 1     | 0     | 6     | 1     |  43   | 560   | 1     |\n",
       "| 0     | 24.50 | 0.500 | 1.50  | 1     | 1     | 0     | 1     | 280   | 824   | 1     |\n",
       "| 1     | 27.83 | 1.540 | 3.75  | 1     | 0     | 5     | 0     | 100   |   3   | 1     |\n",
       "| 1     | 20.17 | 5.625 | 1.71  | 1     | 1     | 0     | 1     | 120   |   0   | 1     |\n",
       "| 1     | 32.08 | 4.000 | 2.50  | 1     | 1     | 0     | 0     | 360   |   0   | 1     |\n",
       "\n"
      ],
      "text/plain": [
       "  A1 A2    A3    A8   A9 A10 A11 A12 A14 A15 R1\n",
       "1 1  30.83 0.000 1.25 1  0   1   1   202   0 1 \n",
       "2 0  58.67 4.460 3.04 1  0   6   1    43 560 1 \n",
       "3 0  24.50 0.500 1.50 1  1   0   1   280 824 1 \n",
       "4 1  27.83 1.540 3.75 1  0   5   0   100   3 1 \n",
       "5 1  20.17 5.625 1.71 1  1   0   1   120   0 1 \n",
       "6 1  32.08 4.000 2.50 1  1   0   0   360   0 1 "
      ]
     },
     "metadata": {},
     "output_type": "display_data"
    }
   ],
   "source": [
    "# verbose of dataset to make sure is right\n",
    "head(dataset)"
   ]
  },
  {
   "cell_type": "code",
   "execution_count": 3,
   "id": "62b7b513",
   "metadata": {},
   "outputs": [
    {
     "data": {
      "text/plain": [
       "       A1               A2              A3               A8        \n",
       " Min.   :0.0000   Min.   :13.75   Min.   : 0.000   Min.   : 0.000  \n",
       " 1st Qu.:0.0000   1st Qu.:22.58   1st Qu.: 1.040   1st Qu.: 0.165  \n",
       " Median :1.0000   Median :28.46   Median : 2.855   Median : 1.000  \n",
       " Mean   :0.6896   Mean   :31.58   Mean   : 4.831   Mean   : 2.242  \n",
       " 3rd Qu.:1.0000   3rd Qu.:38.25   3rd Qu.: 7.438   3rd Qu.: 2.615  \n",
       " Max.   :1.0000   Max.   :80.25   Max.   :28.000   Max.   :28.500  \n",
       "       A9              A10              A11              A12        \n",
       " Min.   :0.0000   Min.   :0.0000   Min.   : 0.000   Min.   :0.0000  \n",
       " 1st Qu.:0.0000   1st Qu.:0.0000   1st Qu.: 0.000   1st Qu.:0.0000  \n",
       " Median :1.0000   Median :1.0000   Median : 0.000   Median :1.0000  \n",
       " Mean   :0.5352   Mean   :0.5612   Mean   : 2.498   Mean   :0.5382  \n",
       " 3rd Qu.:1.0000   3rd Qu.:1.0000   3rd Qu.: 3.000   3rd Qu.:1.0000  \n",
       " Max.   :1.0000   Max.   :1.0000   Max.   :67.000   Max.   :1.0000  \n",
       "      A14               A15               R1        \n",
       " Min.   :   0.00   Min.   :     0   Min.   :0.0000  \n",
       " 1st Qu.:  70.75   1st Qu.:     0   1st Qu.:0.0000  \n",
       " Median : 160.00   Median :     5   Median :0.0000  \n",
       " Mean   : 180.08   Mean   :  1013   Mean   :0.4526  \n",
       " 3rd Qu.: 271.00   3rd Qu.:   399   3rd Qu.:1.0000  \n",
       " Max.   :2000.00   Max.   :100000   Max.   :1.0000  "
      ]
     },
     "metadata": {},
     "output_type": "display_data"
    }
   ],
   "source": [
    "summary(dataset)"
   ]
  },
  {
   "cell_type": "code",
   "execution_count": 4,
   "id": "8d9384ba",
   "metadata": {},
   "outputs": [],
   "source": [
    "set.seed(1337)\n",
    "\n",
    "sample_train_test <- sample(c(TRUE, FALSE), nrow(dataset), replace=TRUE, prob=c(0.85,0.15))\n",
    "train_test  <- dataset[sample_train_test, ]\n",
    "val_holdout   <- dataset[!sample_train_test, ]\n"
   ]
  },
  {
   "cell_type": "code",
   "execution_count": 5,
   "id": "6b0049e2",
   "metadata": {},
   "outputs": [],
   "source": [
    "# Set up train test dataset\n",
    "library(caTools)\n",
    "set.seed(123)\n",
    "split = sample.split(train_test$R1, SplitRatio = 0.75)\n",
    "training_set = subset(train_test, split == TRUE)\n",
    "test_set = subset(train_test, split == FALSE)\n"
   ]
  },
  {
   "cell_type": "code",
   "execution_count": 6,
   "id": "ab014804",
   "metadata": {},
   "outputs": [],
   "source": [
    "# Scalling everything but the target column (categorical)\n",
    "scaled_train <- scale(training_set[,-ncol(training_set)])\n",
    "scaled_test <- scale(test_set[,-ncol(test_set)])\n",
    "# Adding the target to the scaled datasets (train and test)\n",
    "scaled_train <- cbind(scaled_train,R1=training_set$R1)\n"
   ]
  },
  {
   "cell_type": "code",
   "execution_count": 7,
   "id": "4969f2e0",
   "metadata": {},
   "outputs": [],
   "source": [
    "library(kernlab)\n",
    "model.ksvm = ksvm(R1 ~ ., data = scaled_train, type=\"C-svc\")"
   ]
  },
  {
   "cell_type": "code",
   "execution_count": 8,
   "id": "4f47fc86",
   "metadata": {},
   "outputs": [],
   "source": [
    "ksvm.pred <- predict(model.ksvm, scaled_test)"
   ]
  },
  {
   "cell_type": "code",
   "execution_count": 11,
   "id": "e0d4298b",
   "metadata": {},
   "outputs": [
    {
     "data": {
      "image/png": "[encoded data removed]",
      "text/plain": [
       "plot without title"
      ]
     },
     "metadata": {},
     "output_type": "display_data"
    }
   ],
   "source": [
    "library(ROCR)\n",
    "\n",
    "pred <- prediction(ksvm.pred, test_set$R1)\n",
    "perf <- performance(pred, \"tpr\", \"fpr\")\n",
    "#> A performance instance\n",
    "#>   'False positive rate' vs. 'True positive rate' (alpha: 'Cutoff')\n",
    "#>   for 10 cross validation runs\n",
    "plot(perf,\n",
    "     avg=\"threshold\",\n",
    "     spread.estimate=\"boxplot\")"
   ]
  },
  {
   "cell_type": "code",
   "execution_count": 10,
   "id": "34752353",
   "metadata": {},
   "outputs": [
    {
     "data": {
      "image/png": "[encoded data removed]",
      "text/plain": [
       "plot without title"
      ]
     },
     "metadata": {},
     "output_type": "display_data"
    }
   ],
   "source": [
    "val_holdout_scaled <- scale(val_holdout[,-ncol(val_holdout)])\n",
    "\n",
    "ksvm.pred_hold <- predict(model.ksvm, val_holdout_scaled)\n",
    "pred_hold <- prediction(ksvm.pred_hold, val_holdout$R1)\n",
    "perf_hold <- performance(pred_hold, \"tpr\", \"fpr\")\n",
    "#> A performance instance\n",
    "#>   'False positive rate' vs. 'True positive rate' (alpha: 'Cutoff')\n",
    "#>   for 10 cross validation runs\n",
    "plot(perf_hold,\n",
    "     avg=\"threshold\",\n",
    "     spread.estimate=\"boxplot\")"
   ]
  },
  {
   "cell_type": "markdown",
   "id": "9e4094fa",
   "metadata": {},
   "source": [
    "**Question 4.1**\n",
    "\n",
    "\n",
    "Describe a situation or problem from your job, everyday life, current events, etc., for which a clustering model would be appropriate. List some (up to 5) predictors that you might use.\n"
   ]
  },
  {
   "cell_type": "markdown",
   "id": "e7a75085",
   "metadata": {},
   "source": [
    "\n",
    "    1. Example from my job\n",
    "\n",
    "    Everyday we meet new customers, in terms of stablish a relationship with them, we would like to know in advance their needs or create new products for them. We need to look how similar this new customer is related to previous customers. Obviously we need to gather some datapoints, clusterize and then predict whats the most relevant group of customers is related.\n",
    "    \n",
    "    There are several models that we might use such as:\n",
    "    \n",
    "        1.1 Agglomerative Clustering\n",
    "        1.2 DBSCAN\n",
    "        1.3 K-Means\n",
    "        1.4 Mean Shift\n",
    "        1.5 SVM Classifier"
   ]
  },
  {
   "cell_type": "markdown",
   "id": "28868c89",
   "metadata": {},
   "source": [
    "**Question 4.2** \n",
    "\n",
    "The iris data set iris.txt contains 150 data points, each with four predictor variables and one categorical response. The predictors are the width and length of the sepal and petal of flowers and the response is the type of flower. The data is available from the R library datasets and can be accessed with iris once the library is loaded. It is also available at the UCI Machine Learning Repository (https://archive.ics.uci.edu/ml/datasets/Iris ). The response values are only given to see how well a specific method performed and should not be used to build the model.\n",
    "\n",
    "Use the R function kmeans to cluster the points as well as possible. Report the best combination of predictors, your suggested value of k, and how well your best clustering predicts flower type.\n"
   ]
  },
  {
   "cell_type": "code",
   "execution_count": 13,
   "id": "8bf3ff21",
   "metadata": {},
   "outputs": [],
   "source": [
    "data(iris)"
   ]
  },
  {
   "cell_type": "code",
   "execution_count": 19,
   "id": "73fabc07",
   "metadata": {},
   "outputs": [
    {
     "data": {
      "text/plain": [
       "  Sepal.Length    Sepal.Width     Petal.Length    Petal.Width   \n",
       " Min.   :4.300   Min.   :2.000   Min.   :1.000   Min.   :0.100  \n",
       " 1st Qu.:5.100   1st Qu.:2.800   1st Qu.:1.600   1st Qu.:0.300  \n",
       " Median :5.800   Median :3.000   Median :4.350   Median :1.300  \n",
       " Mean   :5.843   Mean   :3.057   Mean   :3.758   Mean   :1.199  \n",
       " 3rd Qu.:6.400   3rd Qu.:3.300   3rd Qu.:5.100   3rd Qu.:1.800  \n",
       " Max.   :7.900   Max.   :4.400   Max.   :6.900   Max.   :2.500  \n",
       "       Species  \n",
       " setosa    :50  \n",
       " versicolor:50  \n",
       " virginica :50  \n",
       "                \n",
       "                \n",
       "                "
      ]
     },
     "metadata": {},
     "output_type": "display_data"
    }
   ],
   "source": [
    "summary(iris)"
   ]
  },
  {
   "cell_type": "code",
   "execution_count": 28,
   "id": "34429909",
   "metadata": {},
   "outputs": [
    {
     "data": {
      "image/png": "[encoded data removed]",
      "text/plain": [
       "plot without title"
      ]
     },
     "metadata": {},
     "output_type": "display_data"
    }
   ],
   "source": [
    "library(purrr)\n",
    "\n",
    "iris_1 <- iris[, -5]\n",
    "iris_2 <- scale(iris_1)\n",
    "# Fitting K-Means clustering Model \n",
    "# to training dataset\n",
    "set.seed(240) # Setting seed\n",
    "\n",
    "# function to compute total within-cluster sum of square \n",
    "wss <- function(k) {\n",
    "  kmeans(iris_2, k, nstart = 10 )$tot.withinss\n",
    "}\n",
    "\n",
    "# Compute and plot wss for k = 1 to k = 15\n",
    "k.values <- 1:15\n",
    "\n",
    "# extract wss for 2-15 clusters\n",
    "wss_values <- map_dbl(k.values, wss)\n",
    "\n",
    "plot(k.values, wss_values,\n",
    "       type=\"b\", pch = 19, frame = FALSE, \n",
    "       xlab=\"Number of clusters K\",\n",
    "       ylab=\"Total within-clusters sum of squares\")"
   ]
  },
  {
   "cell_type": "markdown",
   "id": "f8b54637",
   "metadata": {},
   "source": [
    "The suggested K=3, this means that with 4 there no a decrease in distance"
   ]
  },
  {
   "cell_type": "code",
   "execution_count": 33,
   "id": "52d5cb1f",
   "metadata": {},
   "outputs": [
    {
     "data": {
      "text/plain": [
       "            \n",
       "              1  2  3\n",
       "  setosa     50  0  0\n",
       "  versicolor  0 39 11\n",
       "  virginica   0 14 36"
      ]
     },
     "metadata": {},
     "output_type": "display_data"
    }
   ],
   "source": [
    "# Testing K=3\n",
    "\n",
    "kmeans_3 <- kmeans(iris_2, 3, nstart = 10 )\n",
    "\n",
    "# Confusion Matrix\n",
    "cm_3 <- table(iris$Species, kmeans_3$cluster)\n",
    "cm_3"
   ]
  },
  {
   "cell_type": "markdown",
   "id": "fdcfa52c",
   "metadata": {},
   "source": [
    "- Cluster 1 most likely setosa\n",
    "- Cluster 2 most likely virginica\n",
    "- Cluster 3 most likely versicolor\n"
   ]
  },
  {
   "cell_type": "code",
   "execution_count": null,
   "id": "897fc5c6",
   "metadata": {},
   "outputs": [],
   "source": []
  }
 ],
 "metadata": {
  "kernelspec": {
   "display_name": "R",
   "language": "R",
   "name": "ir"
  },
  "language_info": {
   "codemirror_mode": "r",
   "file_extension": ".r",
   "mimetype": "text/x-r-source",
   "name": "R",
   "pygments_lexer": "r",
   "version": "3.6.1"
  }
 },
 "nbformat": 4,
 "nbformat_minor": 5
}
